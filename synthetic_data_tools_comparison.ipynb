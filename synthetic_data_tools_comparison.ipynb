{
  "nbformat": 4,
  "nbformat_minor": 0,
  "metadata": {
    "colab": {
      "provenance": [],
      "mount_file_id": "1eCMrxvGMhiO5cgRr4wGYLjaWCNUBNyYY",
      "authorship_tag": "ABX9TyNR+W0LdkjFDoi52V+odsL+",
      "include_colab_link": true
    },
    "kernelspec": {
      "name": "python3",
      "display_name": "Python 3"
    },
    "language_info": {
      "name": "python"
    }
  },
  "cells": [
    {
      "cell_type": "markdown",
      "metadata": {
        "id": "view-in-github",
        "colab_type": "text"
      },
      "source": [
        "<a href=\"https://colab.research.google.com/github/Clearbox-AI/Marileni_Sinioraki_Thesis/blob/start-testing-tools/synthetic_data_tools_comparison.ipynb\" target=\"_parent\"><img src=\"https://colab.research.google.com/assets/colab-badge.svg\" alt=\"Open In Colab\"/></a>"
      ]
    },
    {
      "cell_type": "markdown",
      "source": [
        "# Synthetic textual data\n",
        "\n",
        "Synthetic textual data is artificially generated text created by algorithms, AI models, or other computational methods, rather than being written by humans. It’s designed to mimic real-world text patterns, structures, or styles, often used for tasks like training machine learning models, testing systems, or augmenting datasets when real data is scarce or sensitive.\n",
        "\n",
        "Benefits:\n",
        "\n",
        "1. **Privacy and Security**: No real personal data at risk of breaches.\n",
        "2. **Data Augmentation**: Expands datasets for machine learning.\n",
        "3. **Flexibility**: Create specific or rare scenarios.\n",
        "4. **Cost-effective**: Often cheaper than real-world data collection.\n",
        "5. **Regulatory Compliance**: Helps navigate strict data protection laws.\n",
        "6. **Model Robustness**: Can lead to better generalizing AI models.\n",
        "7. **Rapid Prototyping**: Enables quick testing without real data.\n",
        "8. **Controlled Experimentation**: Simulate specific conditions.\n",
        "9. **Access to Data**: Alternative when real data isn't available."
      ],
      "metadata": {
        "id": "79ZEcB4B3KdJ"
      }
    },
    {
      "cell_type": "markdown",
      "source": [
        "# **Data Augmentation Libraries**"
      ],
      "metadata": {
        "id": "GsQIkOVO3PGm"
      }
    },
    {
      "cell_type": "markdown",
      "source": [
        "## **TextAttack**"
      ],
      "metadata": {
        "id": "XjTu856W4ZPA"
      }
    }
  ]
}