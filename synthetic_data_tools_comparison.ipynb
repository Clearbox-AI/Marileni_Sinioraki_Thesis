{
  "nbformat": 4,
  "nbformat_minor": 0,
  "metadata": {
    "colab": {
      "provenance": [],
      "mount_file_id": "1eCMrxvGMhiO5cgRr4wGYLjaWCNUBNyYY",
      "authorship_tag": "ABX9TyOjZUzuiP31jG+jJxGAjLeV",
      "include_colab_link": true
    },
    "kernelspec": {
      "name": "python3",
      "display_name": "Python 3"
    },
    "language_info": {
      "name": "python"
    }
  },
  "cells": [
    {
      "cell_type": "markdown",
      "metadata": {
        "id": "view-in-github",
        "colab_type": "text"
      },
      "source": [
        "<a href=\"https://colab.research.google.com/github/Clearbox-AI/Marileni_Sinioraki_Thesis/blob/start-testing-tools/synthetic_data_tools_comparison.ipynb\" target=\"_parent\"><img src=\"https://colab.research.google.com/assets/colab-badge.svg\" alt=\"Open In Colab\"/></a>"
      ]
    },
    {
      "cell_type": "markdown",
      "source": [
        "# Synthetic textual data\n",
        "\n",
        "Synthetic textual data is artificially generated text created by algorithms, AI models, or other computational methods, rather than being written by humans. It’s designed to mimic real-world text patterns, structures, or styles, often used for tasks like training machine learning models, testing systems, or augmenting datasets when real data is scarce or sensitive.\n",
        "\n",
        "Benefits:\n",
        "\n",
        "1. **Privacy and Security**: No real personal data at risk of breaches.\n",
        "2. **Data Augmentation**: Expands datasets for machine learning.\n",
        "3. **Flexibility**: Create specific or rare scenarios.\n",
        "4. **Cost-effective**: Often cheaper than real-world data collection.\n",
        "5. **Regulatory Compliance**: Helps navigate strict data protection laws.\n",
        "6. **Model Robustness**: Can lead to better generalizing AI models.\n",
        "7. **Rapid Prototyping**: Enables quick testing without real data.\n",
        "8. **Controlled Experimentation**: Simulate specific conditions.\n",
        "9. **Access to Data**: Alternative when real data isn't available."
      ],
      "metadata": {
        "id": "79ZEcB4B3KdJ"
      }
    },
    {
      "cell_type": "markdown",
      "source": [
        "# **Data Augmentation Libraries**"
      ],
      "metadata": {
        "id": "GsQIkOVO3PGm"
      }
    },
    {
      "cell_type": "markdown",
      "source": [
        "## **TextAttack**"
      ],
      "metadata": {
        "id": "XjTu856W4ZPA"
      }
    },
    {
      "cell_type": "code",
      "source": [
        "from textattack.augmentation import WordNetAugmenter, Augmenter\n",
        "from textattack.transformations import WordSwapMaskedLM  # Import correct class for BERT\n",
        "\n",
        "text = \"The food was absolutely delicious, and the service was attentive, making it one of the best dining experiences I've had recently.\"\n",
        "\n",
        "wordnet_aug = WordNetAugmenter()\n",
        "# Initialize with a specific model or use default.\n",
        "# Change method to 'bert-attack' or 'mlm'\n",
        "bert_aug = WordSwapMaskedLM(method=\"bert-attack\")\n",
        "# Create an Augmenter using the bert_aug transformation.\n",
        "bert_augmenter = Augmenter(transformation=bert_aug)\n",
        "\n",
        "print(\"WordNet:\", wordnet_aug.augment(text))\n",
        "# Use the bert_augmenter to apply the transformation\n",
        "# print(\"BERT:\", bert_augmenter.augment(text))"
      ],
      "metadata": {
        "colab": {
          "base_uri": "https://localhost:8080/",
          "height": 384
        },
        "id": "OXrkrS59aHEn",
        "outputId": "bb1f8bca-af47-4828-8fa0-92497ec6a4b7"
      },
      "execution_count": 1,
      "outputs": [
        {
          "output_type": "error",
          "ename": "ModuleNotFoundError",
          "evalue": "No module named 'textattack'",
          "traceback": [
            "\u001b[0;31m---------------------------------------------------------------------------\u001b[0m",
            "\u001b[0;31mModuleNotFoundError\u001b[0m                       Traceback (most recent call last)",
            "\u001b[0;32m<ipython-input-1-ff04cfad7079>\u001b[0m in \u001b[0;36m<cell line: 0>\u001b[0;34m()\u001b[0m\n\u001b[0;32m----> 1\u001b[0;31m \u001b[0;32mfrom\u001b[0m \u001b[0mtextattack\u001b[0m\u001b[0;34m.\u001b[0m\u001b[0maugmentation\u001b[0m \u001b[0;32mimport\u001b[0m \u001b[0mWordNetAugmenter\u001b[0m\u001b[0;34m,\u001b[0m \u001b[0mAugmenter\u001b[0m\u001b[0;34m\u001b[0m\u001b[0;34m\u001b[0m\u001b[0m\n\u001b[0m\u001b[1;32m      2\u001b[0m \u001b[0;32mfrom\u001b[0m \u001b[0mtextattack\u001b[0m\u001b[0;34m.\u001b[0m\u001b[0mtransformations\u001b[0m \u001b[0;32mimport\u001b[0m \u001b[0mWordSwapMaskedLM\u001b[0m  \u001b[0;31m# Import correct class for BERT\u001b[0m\u001b[0;34m\u001b[0m\u001b[0;34m\u001b[0m\u001b[0m\n\u001b[1;32m      3\u001b[0m \u001b[0;34m\u001b[0m\u001b[0m\n\u001b[1;32m      4\u001b[0m \u001b[0mtext\u001b[0m \u001b[0;34m=\u001b[0m \u001b[0;34m\"The food was absolutely delicious, and the service was attentive, making it one of the best dining experiences I've had recently.\"\u001b[0m\u001b[0;34m\u001b[0m\u001b[0;34m\u001b[0m\u001b[0m\n\u001b[1;32m      5\u001b[0m \u001b[0;34m\u001b[0m\u001b[0m\n",
            "\u001b[0;31mModuleNotFoundError\u001b[0m: No module named 'textattack'",
            "",
            "\u001b[0;31m---------------------------------------------------------------------------\u001b[0;32m\nNOTE: If your import is failing due to a missing package, you can\nmanually install dependencies using either !pip or !apt.\n\nTo view examples of installing some common dependencies, click the\n\"Open Examples\" button below.\n\u001b[0;31m---------------------------------------------------------------------------\u001b[0m\n"
          ],
          "errorDetails": {
            "actions": [
              {
                "action": "open_url",
                "actionText": "Open Examples",
                "url": "/notebooks/snippets/importing_libraries.ipynb"
              }
            ]
          }
        }
      ]
    },
    {
      "cell_type": "markdown",
      "source": [
        "## **AugLy**"
      ],
      "metadata": {
        "id": "--WjKQD53yWY"
      }
    },
    {
      "cell_type": "markdown",
      "source": [
        "## **langchain**"
      ],
      "metadata": {
        "id": "hK3cLq3335Qy"
      }
    }
  ]
}